{
  "nbformat": 4,
  "nbformat_minor": 0,
  "metadata": {
    "colab": {
      "name": "userlevel",
      "version": "0.3.2",
      "provenance": [],
      "include_colab_link": true
    },
    "kernelspec": {
      "name": "python3",
      "display_name": "Python 3"
    },
    "accelerator": "GPU"
  },
  "cells": [
    {
      "cell_type": "markdown",
      "metadata": {
        "id": "view-in-github",
        "colab_type": "text"
      },
      "source": [
        "<a href=\"https://colab.research.google.com/github/sunilchinnahalli/ASS_9_9.1_9.2_9.3/blob/master/userlevel.ipynb\" target=\"_parent\"><img src=\"https://colab.research.google.com/assets/colab-badge.svg\" alt=\"Open In Colab\"/></a>"
      ]
    },
    {
      "metadata": {
        "id": "Hyx4V7w3_tUi",
        "colab_type": "code",
        "colab": {
          "base_uri": "https://localhost:8080/",
          "height": 122
        },
        "outputId": "7289fe18-d04c-49c2-c53b-f63e7cdc63a9"
      },
      "cell_type": "code",
      "source": [
        "# Load the Drive helper and mount\n",
        "from google.colab import drive\n",
        "\n",
        "# This will prompt for authorization.\n",
        "drive.mount('/content/drive')"
      ],
      "execution_count": 1,
      "outputs": [
        {
          "output_type": "stream",
          "text": [
            "Go to this URL in a browser: https://accounts.google.com/o/oauth2/auth?client_id=947318989803-6bn6qk8qdgf4n4g3pfee6491hc0brc4i.apps.googleusercontent.com&redirect_uri=urn%3Aietf%3Awg%3Aoauth%3A2.0%3Aoob&scope=email%20https%3A%2F%2Fwww.googleapis.com%2Fauth%2Fdocs.test%20https%3A%2F%2Fwww.googleapis.com%2Fauth%2Fdrive%20https%3A%2F%2Fwww.googleapis.com%2Fauth%2Fdrive.photos.readonly%20https%3A%2F%2Fwww.googleapis.com%2Fauth%2Fpeopleapi.readonly&response_type=code\n",
            "\n",
            "Enter your authorization code:\n",
            "··········\n",
            "Mounted at /content/drive\n"
          ],
          "name": "stdout"
        }
      ]
    },
    {
      "metadata": {
        "id": "2X48lZ6U_2L3",
        "colab_type": "code",
        "colab": {
          "base_uri": "https://localhost:8080/",
          "height": 34
        },
        "outputId": "0dcf0b41-c1f1-4bca-d036-ce3fcead0a83"
      },
      "cell_type": "code",
      "source": [
        "import pandas as pd\n",
        "import numpy as np\n",
        "import re\n",
        "\n",
        "from keras.layers import Embedding, Dense, LSTM, Dense, Input, concatenate\n",
        "from keras.models import Model\n",
        "from keras.utils import plot_model\n",
        "\n",
        "from keras.preprocessing.text import Tokenizer\n",
        "from keras.preprocessing.sequence import pad_sequences"
      ],
      "execution_count": 2,
      "outputs": [
        {
          "output_type": "stream",
          "text": [
            "Using TensorFlow backend.\n"
          ],
          "name": "stderr"
        }
      ]
    },
    {
      "metadata": {
        "id": "CYP4-hzKAJd_",
        "colab_type": "code",
        "colab": {}
      },
      "cell_type": "code",
      "source": [
        "bot_accounts = pd.concat([pd.read_csv('/content/drive/My Drive/twitter/social_spambots_1.csv'), pd.read_csv('/content/drive/My Drive/twitter/social_spambots_2.csv'), pd.read_csv('/content/drive/My Drive/twitter/social_spambots_3.csv')]).reset_index(drop=True)\n",
        "clean_accounts = pd.read_csv('/content/drive/My Drive/twitter/geniune_accounts.csv')\n",
        "\n",
        "requiredColumns = ['listed_count', 'geo_enabled', 'verified', 'statuses_count', 'friends_count','followers_count', 'favourites_count', 'profile_use_background_image', 'protected', 'default_profile']\n",
        "bot_accounts = bot_accounts[requiredColumns]\n",
        "clean_accounts = clean_accounts[requiredColumns]\n",
        "def clean_df(df):\n",
        "    \n",
        "    \n",
        "    df['listed_count'] = df['listed_count'].apply(lambda x: x if x==x else 0)\n",
        "    df['geo_enabled'] = df['geo_enabled'].apply(lambda x: 1 if x==x else 0)\n",
        "    df['statuses_count'] = df['statuses_count'].apply(lambda x: x if x==x else 0)\n",
        "    df['friends_count'] = df['friends_count'].apply(lambda x: x if x==x else 0)\n",
        "    df['followers_count'] = df['followers_count'].apply(lambda x: x if x==x else 0)\n",
        "    df['favourites_count'] = df['favourites_count'].apply(lambda x: x if x==x else 0)\n",
        "    df['profile_use_background_image'] = df['profile_use_background_image'].apply(lambda x: 1 if x==x else 0)\n",
        "    df['verified']=df['verified'].apply(lambda x: 1 if x==x else 0)\n",
        "    df['is_protected']=df['protected'].apply(lambda x: 1 if x==x else 0)\n",
        "    df['default_profile'] = df['default_profile'].apply(lambda x: 0 if x==x else 1)\n",
        "    #df = df.rename(index=str, columns={\"screen_name\": \"username\", \"statuses_count\": \"total_tweets\", \"friends_count\": \"total_following\", \"followers_count\": \"total_followers\", \"favourites_count\": \"total_likes\"})\n",
        "    return df[['listed_count', 'geo_enabled', 'verified', 'statuses_count', 'friends_count','followers_count', 'favourites_count', 'profile_use_background_image', 'is_protected', 'default_profile']]\n",
        "\n",
        "bot_accounts = clean_df(bot_accounts)\n",
        "clean_accounts = clean_df(clean_accounts)\n",
        "#print(bot_accounts)"
      ],
      "execution_count": 0,
      "outputs": []
    },
    {
      "metadata": {
        "id": "uNpuIpm9Acfn",
        "colab_type": "code",
        "colab": {}
      },
      "cell_type": "code",
      "source": [
        "bot_accounts['BotOrNot'] = 1\n",
        "clean_accounts['BotOrNot'] = 0\n",
        "#print(bot_accounts)\n",
        "#print(clean_accounts)\n",
        "\n",
        "combined_df = pd.concat([bot_accounts, clean_accounts])\n",
        "\n",
        "new_df = combined_df.sample(frac=1).reset_index(drop=True)"
      ],
      "execution_count": 0,
      "outputs": []
    },
    {
      "metadata": {
        "id": "ApP2UYA9AgyX",
        "colab_type": "code",
        "colab": {
          "base_uri": "https://localhost:8080/",
          "height": 119
        },
        "outputId": "653fc817-2d14-47a2-8e85-4e97594a88a1"
      },
      "cell_type": "code",
      "source": [
        "training_df = new_df[:int(combined_df.shape[0] * 0.8)]\n",
        "test_df = new_df[int(combined_df.shape[0] * 0.8):]\n",
        "\n",
        "\n",
        "\n",
        "columns_to_standardize = ['listed_count', 'geo_enabled', 'verified', 'statuses_count', 'friends_count','followers_count', 'favourites_count', 'profile_use_background_image', 'is_protected', 'default_profile']\n",
        "\n",
        "training_df_mean = training_df[columns_to_standardize].mean()\n",
        "training_df_std = training_df[columns_to_standardize].std()\n",
        "\n",
        "training_df[columns_to_standardize] = (training_df[columns_to_standardize] - training_df_mean)/training_df_std\n",
        "test_df[columns_to_standardize] = (test_df[columns_to_standardize] - training_df_mean)/training_df_std\n",
        "\n",
        "# training_df_mean = training_df.mean()\n",
        "# training_df_std = training_df.std()\n",
        "\n",
        "# training_df = (training_df - training_df_mean)/training_df_std\n",
        "# test_df = (test_df - training_df_mean)/training_df_std\n",
        "\n",
        "# max_vals = training_df.max()\n",
        "\n",
        "# training_df = training_df/max_vals\n",
        "# test_df = test_df/max_vals"
      ],
      "execution_count": 6,
      "outputs": [
        {
          "output_type": "stream",
          "text": [
            "/usr/local/lib/python3.6/dist-packages/pandas/core/frame.py:2540: SettingWithCopyWarning: \n",
            "A value is trying to be set on a copy of a slice from a DataFrame.\n",
            "Try using .loc[row_indexer,col_indexer] = value instead\n",
            "\n",
            "See the caveats in the documentation: http://pandas.pydata.org/pandas-docs/stable/indexing.html#indexing-view-versus-copy\n",
            "  self[k1] = value[k2]\n"
          ],
          "name": "stderr"
        }
      ]
    },
    {
      "metadata": {
        "id": "FUTig0yHAoRg",
        "colab_type": "code",
        "colab": {
          "base_uri": "https://localhost:8080/",
          "height": 105
        },
        "outputId": "c8554db0-ce41-4568-d313-dea6ffa89542"
      },
      "cell_type": "code",
      "source": [
        "#X_train = training_df.drop(['BotOrNot', 'is_protected'], axis=1).values\n",
        "#y_train = training_df['BotOrNot'].values.reshape(-1,1)\n",
        "#print(X_train)\n",
        "X_train = training_df\n",
        "y_train = training_df['BotOrNot'].values.reshape(-1,1)\n",
        "\n",
        "X_test = test_df\n",
        "y_test = test_df['BotOrNot'].values.reshape(-1,1)\n",
        "print()\n",
        "from sklearn.datasets import make_classification\n",
        "from imblearn.over_sampling import SMOTE\n",
        "from imblearn.combine import SMOTEENN\n",
        "sm = SMOTEENN()\n",
        "X_train, y_train = sm.fit_sample(X_train, y_train)\n",
        "#print(X_train)\n",
        "from sklearn.ensemble import AdaBoostClassifier\n",
        "\n",
        "# Import Support Vector Classifier\n",
        "from sklearn.svm import SVC\n",
        "#Import scikit-learn metrics module for accuracy calculation\n",
        "from sklearn import metrics\n",
        "svc=SVC(probability=True, kernel='linear')\n",
        "\n",
        "# Create adaboost classifer object\n",
        "abc =AdaBoostClassifier(n_estimators=50, base_estimator=svc,learning_rate=1)\n",
        "\n",
        "# Train Adaboost Classifer\n",
        "model = abc.fit(X_train, y_train)\n",
        "\n",
        "#Predict the response for test dataset\n",
        "y_pred = model.predict(X_test)\n",
        "\n",
        "\n",
        "# Model Accuracy, how often is the classifier correct?\n",
        "print(\"Accuracy:\",metrics.accuracy_score(y_test, y_pred))"
      ],
      "execution_count": 7,
      "outputs": [
        {
          "output_type": "stream",
          "text": [
            "\n"
          ],
          "name": "stdout"
        },
        {
          "output_type": "stream",
          "text": [
            "/usr/local/lib/python3.6/dist-packages/sklearn/utils/validation.py:761: DataConversionWarning: A column-vector y was passed when a 1d array was expected. Please change the shape of y to (n_samples, ), for example using ravel().\n",
            "  y = column_or_1d(y, warn=True)\n"
          ],
          "name": "stderr"
        },
        {
          "output_type": "stream",
          "text": [
            "Accuracy: 0.9958283671036948\n"
          ],
          "name": "stdout"
        }
      ]
    },
    {
      "metadata": {
        "id": "4ce65jZcAzQY",
        "colab_type": "code",
        "colab": {}
      },
      "cell_type": "code",
      "source": [
        "#from sklearn.metrics import classification_report\n",
        "#predicted_classes = model.predict(np.array(X_test))\n",
        "#target_names = [\"Class {}\".format(i) for i in range(2)]\n"
      ],
      "execution_count": 0,
      "outputs": []
    },
    {
      "metadata": {
        "id": "am6eZ8z_BMKA",
        "colab_type": "code",
        "colab": {}
      },
      "cell_type": "code",
      "source": [
        "#predicted_classes = np.argmax(np.round(predicted_classes))\n",
        "#print(classification_report(y_train, predicted_classes, target_names=target_names))\n",
        "def get_accuracy(AL, y, verbose=1):\n",
        "    \n",
        "    try:\n",
        "        AL = np.array(AL)\n",
        "        y = np.array(y)\n",
        "\n",
        "        AL = AL.reshape(-1)\n",
        "        y = y.reshape(-1)\n",
        "\n",
        "        AL = AL > 0.5\n",
        "        AL = AL.astype(int)\n",
        "\n",
        "        y = y > 0.5\n",
        "        y = y.astype(int)\n",
        "\n",
        "        total = AL.shape[0]\n",
        "\n",
        "        TP = np.sum(np.logical_and(AL==1, y==1))\n",
        "        TN = np.sum(np.logical_and(AL==0, y==0))\n",
        "\n",
        "        FP = np.sum(np.logical_and(AL==1, y==0))\n",
        "        FN = np.sum(np.logical_and(AL==0, y==1))\n",
        "\n",
        "        P = TP / (TP + FP)\n",
        "        R = TP / (TP + FN)\n",
        "        F1 = (2 * P * R) / (P + R)\n",
        "\n",
        "\n",
        "        acc = np.sum(AL == y)/total\n",
        "\n",
        "\n",
        "        if verbose == 1:\n",
        "            print(\"\\nAccuracy: {} \\n\".format(acc))\n",
        "            print(\"True Positive: {} \\nTrue Negative: {}\\nFalse Positive: {} \\nFalse Negative: {}\\n\".format(TP, TN, FP, FN))\n",
        "            print(\"Precision: {} \\nRecall: {} \\nF1 Score: {}\\n\".format(P, R, F1))\n",
        "        \n",
        "        return acc\n",
        "    except:\n",
        "        return 0"
      ],
      "execution_count": 0,
      "outputs": []
    },
    {
      "metadata": {
        "id": "Ta4sGoIOCJaI",
        "colab_type": "code",
        "colab": {
          "base_uri": "https://localhost:8080/",
          "height": 238
        },
        "outputId": "7b6f6d09-2641-4657-cca8-5c3300498e7e"
      },
      "cell_type": "code",
      "source": [
        "y_predict = abc.predict(X_train)\n",
        "get_accuracy(y_predict, y_train)"
      ],
      "execution_count": 16,
      "outputs": [
        {
          "output_type": "stream",
          "text": [
            "\n",
            "Accuracy: 1.0 \n",
            "\n",
            "True Positive: 3894 \n",
            "True Negative: 3905\n",
            "False Positive: 0 \n",
            "False Negative: 0\n",
            "\n",
            "Precision: 1.0 \n",
            "Recall: 1.0 \n",
            "F1 Score: 1.0\n",
            "\n"
          ],
          "name": "stdout"
        },
        {
          "output_type": "execute_result",
          "data": {
            "text/plain": [
              "1.0"
            ]
          },
          "metadata": {
            "tags": []
          },
          "execution_count": 16
        }
      ]
    },
    {
      "metadata": {
        "id": "sQowOHTdCdAA",
        "colab_type": "code",
        "colab": {
          "base_uri": "https://localhost:8080/",
          "height": 238
        },
        "outputId": "1000ccf7-0b6a-499c-8ac8-a8d0dba9c3ce"
      },
      "cell_type": "code",
      "source": [
        "y_test_predict = abc.predict(X_test)\n",
        "get_accuracy(y_test_predict, y_test)"
      ],
      "execution_count": 19,
      "outputs": [
        {
          "output_type": "stream",
          "text": [
            "\n",
            "Accuracy: 0.9958283671036948 \n",
            "\n",
            "True Positive: 987 \n",
            "True Negative: 684\n",
            "False Positive: 0 \n",
            "False Negative: 7\n",
            "\n",
            "Precision: 1.0 \n",
            "Recall: 0.9929577464788732 \n",
            "F1 Score: 0.9964664310954063\n",
            "\n"
          ],
          "name": "stdout"
        },
        {
          "output_type": "execute_result",
          "data": {
            "text/plain": [
              "0.9958283671036948"
            ]
          },
          "metadata": {
            "tags": []
          },
          "execution_count": 19
        }
      ]
    }
  ]
}